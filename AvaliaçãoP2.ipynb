{
  "nbformat": 4,
  "nbformat_minor": 0,
  "metadata": {
    "colab": {
      "name": "AvaliaçãoP2.ipynb",
      "provenance": [],
      "authorship_tag": "ABX9TyOvImsjprXgeXpQtUuN9ZqE"
    },
    "kernelspec": {
      "name": "python3",
      "display_name": "Python 3"
    },
    "language_info": {
      "name": "python"
    }
  },
  "cells": [
    {
      "cell_type": "markdown",
      "metadata": {
        "id": "Uudu7aCt-W6f"
      },
      "source": [
        "# Instalação das Bibliotecas Numpy e Numpy_Finacial"
      ]
    },
    {
      "cell_type": "code",
      "metadata": {
        "id": "xjg3GRoj90yo"
      },
      "source": [
        "!pip install numpy_financial"
      ],
      "execution_count": null,
      "outputs": []
    },
    {
      "cell_type": "code",
      "metadata": {
        "id": "hFjP1q74-kQ8"
      },
      "source": [
        "import numpy as np"
      ],
      "execution_count": 2,
      "outputs": []
    },
    {
      "cell_type": "code",
      "metadata": {
        "id": "svwphlYk-oCu"
      },
      "source": [
        "import numpy_financial as npf"
      ],
      "execution_count": 3,
      "outputs": []
    },
    {
      "cell_type": "markdown",
      "metadata": {
        "id": "v2AFSx7l-s9J"
      },
      "source": [
        "# Definindo as variáveis"
      ]
    },
    {
      "cell_type": "code",
      "metadata": {
        "id": "u7-PtwnV-ylJ"
      },
      "source": [
        "invest = 1000000\n",
        "preco = 14\n",
        "cv = 10\n",
        "cf = 120000\n",
        "deprec = [0.1*invest,0.1*invest,0.1*invest,0.1*invest,0.1*invest]\n",
        "residual = [0,0,0,0,0.5*invest]\n",
        "demanda = [300000,400000,500000,600000,700000]\n",
        "icm = 0.18\n",
        "ir = 0.34\n",
        "wacc = 0.11"
      ],
      "execution_count": 4,
      "outputs": []
    },
    {
      "cell_type": "markdown",
      "metadata": {
        "id": "FtPhbwAs_hNg"
      },
      "source": [
        "# Projetar a DRE"
      ]
    },
    {
      "cell_type": "code",
      "metadata": {
        "colab": {
          "base_uri": "https://localhost:8080/",
          "height": 0
        },
        "id": "_pzh8gP9_nv8",
        "outputId": "12d6a0d6-fa0d-476a-f3ae-fd6832e33f43"
      },
      "source": [
        "receitab = np.multiply(preco,demanda)\n",
        "icms = np.multiply(receitab,icm)\n",
        "receital = np.subtract(receitab,icms)\n",
        "custovar = np.multiply(cv,demanda)\n",
        "custos = np.add(custovar,cf)\n",
        "ebitda = np.subtract(receital,custos)\n",
        "lair = np.subtract(ebitda,deprec)\n",
        "irpj = np.multiply(lair,ir)\n",
        "resultado = np.subtract(lair,irpj)\n",
        "resultado"
      ],
      "execution_count": 5,
      "outputs": [
        {
          "output_type": "execute_result",
          "data": {
            "text/plain": [
              "array([147840., 245520., 343200., 440880., 538560.])"
            ]
          },
          "metadata": {},
          "execution_count": 5
        }
      ]
    },
    {
      "cell_type": "markdown",
      "metadata": {
        "id": "Kylxr2xO_wGj"
      },
      "source": [
        "# Projetar o Fluxo de Caixa"
      ]
    },
    {
      "cell_type": "code",
      "metadata": {
        "colab": {
          "base_uri": "https://localhost:8080/",
          "height": 0
        },
        "id": "O2it12-b_2FK",
        "outputId": "f69f9c97-b90d-468a-ef69-58deb236a3fd"
      },
      "source": [
        "c = np.add(resultado,deprec)\n",
        "fc = np.add(c,residual)\n",
        "fc = tuple(fc)\n",
        "fc = (-invest,)+fc\n",
        "fc"
      ],
      "execution_count": 6,
      "outputs": [
        {
          "output_type": "execute_result",
          "data": {
            "text/plain": [
              "(-1000000, 247840.0, 345520.0, 443200.0, 540880.0, 1138560.0)"
            ]
          },
          "metadata": {},
          "execution_count": 6
        }
      ]
    },
    {
      "cell_type": "markdown",
      "metadata": {
        "id": "jjGmKhoX_606"
      },
      "source": [
        "# Calcular o VPL"
      ]
    },
    {
      "cell_type": "code",
      "metadata": {
        "colab": {
          "base_uri": "https://localhost:8080/",
          "height": 0
        },
        "id": "w3SDbx3p__7R",
        "outputId": "6900cc44-945e-4b2b-8117-4de81bf4826f"
      },
      "source": [
        "VPL = npf.npv(wacc,fc)\n",
        "VPL"
      ],
      "execution_count": 7,
      "outputs": [
        {
          "output_type": "execute_result",
          "data": {
            "text/plain": [
              "859749.4359762461"
            ]
          },
          "metadata": {},
          "execution_count": 7
        }
      ]
    }
  ]
}