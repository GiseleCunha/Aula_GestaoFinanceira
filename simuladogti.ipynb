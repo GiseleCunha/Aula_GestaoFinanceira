{
  "nbformat": 4,
  "nbformat_minor": 0,
  "metadata": {
    "colab": {
      "name": "simuladogti.ipynb",
      "provenance": [],
      "authorship_tag": "ABX9TyMXDsrdfWeVhJ+tscVQK3mc"
    },
    "kernelspec": {
      "name": "python3",
      "display_name": "Python 3"
    },
    "language_info": {
      "name": "python"
    }
  },
  "cells": [
    {
      "cell_type": "markdown",
      "metadata": {
        "id": "WnO-4Hv60_Bg"
      },
      "source": [
        "# Instalação das Bibliotecas Numpy e Numpy_Finacial"
      ]
    },
    {
      "cell_type": "code",
      "metadata": {
        "id": "avv2TypS1Ey8"
      },
      "source": [
        "!pip install numpy_financial"
      ],
      "execution_count": null,
      "outputs": []
    },
    {
      "cell_type": "code",
      "metadata": {
        "id": "veIs5emz1PsO"
      },
      "source": [
        "import numpy as np"
      ],
      "execution_count": 2,
      "outputs": []
    },
    {
      "cell_type": "code",
      "metadata": {
        "id": "px8kq4gC1STM"
      },
      "source": [
        "import numpy_financial as npf"
      ],
      "execution_count": 3,
      "outputs": []
    },
    {
      "cell_type": "markdown",
      "metadata": {
        "id": "DpEaNfWW1c39"
      },
      "source": [
        "# Definindo as variáveis"
      ]
    },
    {
      "cell_type": "code",
      "metadata": {
        "id": "0WAw83901gac"
      },
      "source": [
        "invest = 1500000\n",
        "preco = 12\n",
        "cv = 8\n",
        "cf = 100000\n",
        "deprec = [0.1*invest,0.1*invest,0.1*invest,0.1*invest,0.1*invest]\n",
        "residual = [0,0,0,0,0.5*invest]\n",
        "demanda = [300000,400000,500000,600000,700000]\n",
        "icm = 0.18\n",
        "ir = 0.34\n",
        "wacc = 0.09"
      ],
      "execution_count": 4,
      "outputs": []
    },
    {
      "cell_type": "markdown",
      "metadata": {
        "id": "poJFRmE-2E10"
      },
      "source": [
        "# Projetar a DRE"
      ]
    },
    {
      "cell_type": "code",
      "metadata": {
        "colab": {
          "base_uri": "https://localhost:8080/",
          "height": 0
        },
        "id": "cBtYHErr2KsD",
        "outputId": "b5d05096-287d-43ce-babe-25303e4892de"
      },
      "source": [
        "receitab = np.multiply(preco,demanda)\n",
        "icms = np.multiply(receitab,icm)\n",
        "receital = np.subtract(receitab,icms)\n",
        "custovar = np.multiply(cv,demanda)\n",
        "custos = np.add(custovar,cf)\n",
        "ebitda = np.subtract(receital,custos)\n",
        "lair = np.subtract(ebitda,deprec)\n",
        "irpj = np.multiply(lair,ir)\n",
        "resultado = np.subtract(lair,irpj)\n",
        "resultado"
      ],
      "execution_count": 5,
      "outputs": [
        {
          "output_type": "execute_result",
          "data": {
            "text/plain": [
              "array([199320., 320760., 442200., 563640., 685080.])"
            ]
          },
          "metadata": {},
          "execution_count": 5
        }
      ]
    },
    {
      "cell_type": "markdown",
      "metadata": {
        "id": "fDbDbUMS2SPD"
      },
      "source": [
        "# Projetar o Fluxo de Caixa"
      ]
    },
    {
      "cell_type": "code",
      "metadata": {
        "colab": {
          "base_uri": "https://localhost:8080/",
          "height": 0
        },
        "id": "D49kEGWy2YrN",
        "outputId": "d16f02f9-6ed4-408c-a30b-5ca79082dbfb"
      },
      "source": [
        "c = np.add(resultado,deprec)\n",
        "fc = np.add(c,residual)\n",
        "fc = tuple(fc)\n",
        "fc = (-invest,)+fc\n",
        "fc"
      ],
      "execution_count": 6,
      "outputs": [
        {
          "output_type": "execute_result",
          "data": {
            "text/plain": [
              "(-1500000, 349320.0, 470760.0, 592200.0, 713640.0, 1585080.0)"
            ]
          },
          "metadata": {},
          "execution_count": 6
        }
      ]
    },
    {
      "cell_type": "markdown",
      "metadata": {
        "id": "JqxdhWRZ2juz"
      },
      "source": [
        "# Calcular o VPL"
      ]
    },
    {
      "cell_type": "code",
      "metadata": {
        "colab": {
          "base_uri": "https://localhost:8080/",
          "height": 0
        },
        "id": "FYWRTVtc2owM",
        "outputId": "a34e9098-ec6e-4967-ea21-8aac0d38a8e6"
      },
      "source": [
        "VPL = npf.npv(wacc,fc)\n",
        "VPL"
      ],
      "execution_count": 7,
      "outputs": [
        {
          "output_type": "execute_result",
          "data": {
            "text/plain": [
              "1209747.2041608593"
            ]
          },
          "metadata": {},
          "execution_count": 7
        }
      ]
    }
  ]
}