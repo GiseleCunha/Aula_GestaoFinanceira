{
  "nbformat": 4,
  "nbformat_minor": 0,
  "metadata": {
    "colab": {
      "name": "VPL_lista.ipynb",
      "provenance": [],
      "authorship_tag": "ABX9TyOP7+DsnfmH9Y4jdhSCp9UU"
    },
    "kernelspec": {
      "name": "python3",
      "display_name": "Python 3"
    },
    "language_info": {
      "name": "python"
    }
  },
  "cells": [
    {
      "cell_type": "markdown",
      "metadata": {
        "id": "GIcC5IAS8Jwo"
      },
      "source": [
        "# Instalação das Bibliotecas Numpy e Numpy_Finacial"
      ]
    },
    {
      "cell_type": "code",
      "metadata": {
        "id": "K8zAAau57yzq"
      },
      "source": [
        "!pip install numpy_financial"
      ],
      "execution_count": null,
      "outputs": []
    },
    {
      "cell_type": "code",
      "metadata": {
        "id": "Xp_FFtkn96dp"
      },
      "source": [
        "import numpy as np\n"
      ],
      "execution_count": 3,
      "outputs": []
    },
    {
      "cell_type": "code",
      "metadata": {
        "id": "VzejJCVM-BDz"
      },
      "source": [
        "import numpy_financial as npf"
      ],
      "execution_count": 4,
      "outputs": []
    },
    {
      "cell_type": "markdown",
      "metadata": {
        "id": "1E3w4RE4-IxA"
      },
      "source": [
        "# Definindo as variáveis"
      ]
    },
    {
      "cell_type": "code",
      "metadata": {
        "id": "c00MYIrs-ed_"
      },
      "source": [
        "invest = 1000000\n",
        "preco = 10\n",
        "cv = 7\n",
        "cf = 100000\n",
        "deprec = [0.1*invest,0.1*invest,0.1*invest,0.1*invest,0.1*invest]\n",
        "residual = [0,0,0,0,0.5*invest]\n",
        "demanda = [300000,350000,400000,450000,500000]\n",
        "icm = 0.18\n",
        "ir = 0.34\n",
        "wacc = 0.1"
      ],
      "execution_count": 5,
      "outputs": []
    },
    {
      "cell_type": "markdown",
      "metadata": {
        "id": "KawjK1oIADmw"
      },
      "source": [
        "# Projetar a DRE"
      ]
    },
    {
      "cell_type": "code",
      "metadata": {
        "colab": {
          "base_uri": "https://localhost:8080/",
          "height": 0
        },
        "id": "wMl6fZICAVLP",
        "outputId": "1f521687-3cd3-4e8b-caad-ad90444f10f4"
      },
      "source": [
        "receitab = np.multiply(preco,demanda)\n",
        "icms = np.multiply(receitab,icm)\n",
        "receital = np.subtract(receitab,icms)\n",
        "custovar = np.multiply(cv,demanda)\n",
        "custos = np.add(custovar,cf)\n",
        "ebitda = np.subtract(receital,custos)\n",
        "lair = np.subtract(ebitda,deprec)\n",
        "irpj = np.multiply(lair,ir)\n",
        "resultado = np.subtract(lair,irpj)\n",
        "resultado"
      ],
      "execution_count": 6,
      "outputs": [
        {
          "output_type": "execute_result",
          "data": {
            "text/plain": [
              "array([105600., 145200., 184800., 224400., 264000.])"
            ]
          },
          "metadata": {},
          "execution_count": 6
        }
      ]
    },
    {
      "cell_type": "markdown",
      "metadata": {
        "id": "D9TM90ZYCZgr"
      },
      "source": [
        "# Projetar o Fluxo de Caixa"
      ]
    },
    {
      "cell_type": "code",
      "metadata": {
        "colab": {
          "base_uri": "https://localhost:8080/",
          "height": 0
        },
        "id": "SQBHL3-2CpjQ",
        "outputId": "18808c16-7738-4dd9-e7b0-56fd3148bbf9"
      },
      "source": [
        "c = np.add(resultado,deprec)\n",
        "fc = np.add(c,residual)\n",
        "fc = tuple(fc)\n",
        "fc = (-invest,)+fc\n",
        "fc"
      ],
      "execution_count": 8,
      "outputs": [
        {
          "output_type": "execute_result",
          "data": {
            "text/plain": [
              "(-1000000, 205600.0, 245200.0, 284800.0, 324400.0, 864000.0)"
            ]
          },
          "metadata": {},
          "execution_count": 8
        }
      ]
    },
    {
      "cell_type": "markdown",
      "metadata": {
        "id": "SENTxU5tDfd_"
      },
      "source": [
        "# Calcular o VPL"
      ]
    },
    {
      "cell_type": "code",
      "metadata": {
        "colab": {
          "base_uri": "https://localhost:8080/",
          "height": 0
        },
        "id": "kex41V1LDpr-",
        "outputId": "cc393fd9-ebe5-452c-e7d8-3ab51f0fe813"
      },
      "source": [
        "VPL = npf.npv(wacc,fc)\n",
        "VPL"
      ],
      "execution_count": 9,
      "outputs": [
        {
          "output_type": "execute_result",
          "data": {
            "text/plain": [
              "361573.7623485724"
            ]
          },
          "metadata": {},
          "execution_count": 9
        }
      ]
    }
  ]
}