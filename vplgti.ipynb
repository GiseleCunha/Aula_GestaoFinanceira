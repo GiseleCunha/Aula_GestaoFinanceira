{
  "nbformat": 4,
  "nbformat_minor": 0,
  "metadata": {
    "colab": {
      "name": "vplgti.ipynb",
      "provenance": [],
      "authorship_tag": "ABX9TyNK2jaTCidNqvR6iMjJfk/N"
    },
    "kernelspec": {
      "name": "python3",
      "display_name": "Python 3"
    },
    "language_info": {
      "name": "python"
    }
  },
  "cells": [
    {
      "cell_type": "code",
      "metadata": {
        "id": "N2WHBAe89Eg6"
      },
      "source": [
        "!pip install numpy_financial"
      ],
      "execution_count": null,
      "outputs": []
    },
    {
      "cell_type": "code",
      "metadata": {
        "id": "PeGThDQ4_R-o"
      },
      "source": [
        "import numpy_financial as npf"
      ],
      "execution_count": 3,
      "outputs": []
    },
    {
      "cell_type": "code",
      "metadata": {
        "id": "hv45ewTE_cge"
      },
      "source": [
        "import numpy as np"
      ],
      "execution_count": 4,
      "outputs": []
    },
    {
      "cell_type": "code",
      "metadata": {
        "id": "4uwk7cnc_j_s"
      },
      "source": [
        "import pandas as pd"
      ],
      "execution_count": 5,
      "outputs": []
    },
    {
      "cell_type": "code",
      "metadata": {
        "id": "HkhEP7-u_pT_"
      },
      "source": [
        "import operator"
      ],
      "execution_count": 7,
      "outputs": []
    },
    {
      "cell_type": "code",
      "metadata": {
        "id": "UyQbP37N_5vE"
      },
      "source": [
        "invest = 1000000\n",
        "preco = (10,10,10,10,10)\n",
        "cv = (7,7,7,7,7)\n",
        "cf = (100000,100000,100000,100000,100000)\n",
        "deprec = (0.1*invest,0.1*invest,0.1*invest,0.1*invest,0.1*invest)\n",
        "residual = (0,0,0,0,0.5*invest)\n",
        "icm = (0.18,0.18,0.18,0.18,0.18)\n",
        "ir = (0.34,0.34,0.34,0.34,0.34)\n",
        "demanda = (300000,350000,400000,450000,500000)\n",
        "wacc = 0.1"
      ],
      "execution_count": 8,
      "outputs": []
    },
    {
      "cell_type": "code",
      "metadata": {
        "colab": {
          "base_uri": "https://localhost:8080/",
          "height": 0
        },
        "id": "mlhzObmeCe7H",
        "outputId": "95b8650d-c9c7-4c1b-9a05-fbf2804ca279"
      },
      "source": [
        "receitab = tuple(map(operator.mul,preco,demanda))\n",
        "receitab"
      ],
      "execution_count": 9,
      "outputs": [
        {
          "output_type": "execute_result",
          "data": {
            "text/plain": [
              "(3000000, 3500000, 4000000, 4500000, 5000000)"
            ]
          },
          "metadata": {},
          "execution_count": 9
        }
      ]
    },
    {
      "cell_type": "code",
      "metadata": {
        "colab": {
          "base_uri": "https://localhost:8080/",
          "height": 0
        },
        "id": "hflEV9kTDAfL",
        "outputId": "68bcc7cf-0482-41b8-be7c-d95d979c4176"
      },
      "source": [
        "icms = tuple(map(operator.mul,receitab,icm))\n",
        "icms"
      ],
      "execution_count": 10,
      "outputs": [
        {
          "output_type": "execute_result",
          "data": {
            "text/plain": [
              "(540000.0, 630000.0, 720000.0, 810000.0, 900000.0)"
            ]
          },
          "metadata": {},
          "execution_count": 10
        }
      ]
    },
    {
      "cell_type": "code",
      "metadata": {
        "colab": {
          "base_uri": "https://localhost:8080/",
          "height": 0
        },
        "id": "A4FBgmvSDawM",
        "outputId": "1106618c-4716-4783-da53-7316828a4b95"
      },
      "source": [
        "receital = tuple(map(operator.sub,receitab,icms))\n",
        "receital"
      ],
      "execution_count": 11,
      "outputs": [
        {
          "output_type": "execute_result",
          "data": {
            "text/plain": [
              "(2460000.0, 2870000.0, 3280000.0, 3690000.0, 4100000.0)"
            ]
          },
          "metadata": {},
          "execution_count": 11
        }
      ]
    },
    {
      "cell_type": "code",
      "metadata": {
        "colab": {
          "base_uri": "https://localhost:8080/",
          "height": 0
        },
        "id": "cg0xpLubEGvg",
        "outputId": "8bf1d155-35b8-44ee-8ab4-1db5a28d9b9f"
      },
      "source": [
        "custovar = tuple(map(operator.mul,cv,demanda))\n",
        "custos = tuple(map(operator.add,custovar,cf))\n",
        "custos"
      ],
      "execution_count": 12,
      "outputs": [
        {
          "output_type": "execute_result",
          "data": {
            "text/plain": [
              "(2200000, 2550000, 2900000, 3250000, 3600000)"
            ]
          },
          "metadata": {},
          "execution_count": 12
        }
      ]
    },
    {
      "cell_type": "code",
      "metadata": {
        "colab": {
          "base_uri": "https://localhost:8080/",
          "height": 0
        },
        "id": "1VjmnumiE4PB",
        "outputId": "6e8cd79a-c588-4ad8-fbd4-f351c866975a"
      },
      "source": [
        "ebitda = tuple(map(operator.sub,receital,custos))\n",
        "ebitda"
      ],
      "execution_count": 13,
      "outputs": [
        {
          "output_type": "execute_result",
          "data": {
            "text/plain": [
              "(260000.0, 320000.0, 380000.0, 440000.0, 500000.0)"
            ]
          },
          "metadata": {},
          "execution_count": 13
        }
      ]
    },
    {
      "cell_type": "code",
      "metadata": {
        "colab": {
          "base_uri": "https://localhost:8080/",
          "height": 0
        },
        "id": "5WUZJtwCFNsM",
        "outputId": "0d9126da-1c52-484e-ddc2-ed79af49e2b3"
      },
      "source": [
        "lair = tuple(map(operator.sub,ebitda,deprec))\n",
        "lair"
      ],
      "execution_count": 14,
      "outputs": [
        {
          "output_type": "execute_result",
          "data": {
            "text/plain": [
              "(160000.0, 220000.0, 280000.0, 340000.0, 400000.0)"
            ]
          },
          "metadata": {},
          "execution_count": 14
        }
      ]
    },
    {
      "cell_type": "code",
      "metadata": {
        "colab": {
          "base_uri": "https://localhost:8080/",
          "height": 0
        },
        "id": "7oXkFC7OFe6K",
        "outputId": "58628e92-284a-4a63-8c43-a7754699ba84"
      },
      "source": [
        "irpj = tuple(map(operator.mul,lair,ir))\n",
        "irpj"
      ],
      "execution_count": 15,
      "outputs": [
        {
          "output_type": "execute_result",
          "data": {
            "text/plain": [
              "(54400.00000000001, 74800.0, 95200.0, 115600.00000000001, 136000.0)"
            ]
          },
          "metadata": {},
          "execution_count": 15
        }
      ]
    },
    {
      "cell_type": "code",
      "metadata": {
        "id": "V4YUcbRqFsFZ"
      },
      "source": [
        "resultado = tuple(map(operator.sub,lair,irpj))"
      ],
      "execution_count": 16,
      "outputs": []
    },
    {
      "cell_type": "code",
      "metadata": {
        "colab": {
          "base_uri": "https://localhost:8080/",
          "height": 0
        },
        "id": "udFQ2WdPGG53",
        "outputId": "13270cfa-14b5-4a41-d7e2-f1f60add597a"
      },
      "source": [
        "c = tuple(map(operator.add,resultado,deprec))\n",
        "fc = tuple(map(operator.add,c,residual))\n",
        "fc"
      ],
      "execution_count": 17,
      "outputs": [
        {
          "output_type": "execute_result",
          "data": {
            "text/plain": [
              "(205600.0, 245200.0, 284800.0, 324400.0, 864000.0)"
            ]
          },
          "metadata": {},
          "execution_count": 17
        }
      ]
    },
    {
      "cell_type": "code",
      "metadata": {
        "colab": {
          "base_uri": "https://localhost:8080/",
          "height": 0
        },
        "id": "cFrkBkhmHEKn",
        "outputId": "ac4c5494-dbc7-46ba-f64f-227f62e2335a"
      },
      "source": [
        "fc = (-invest,)+fc\n",
        "fc"
      ],
      "execution_count": 18,
      "outputs": [
        {
          "output_type": "execute_result",
          "data": {
            "text/plain": [
              "(-1000000, 205600.0, 245200.0, 284800.0, 324400.0, 864000.0)"
            ]
          },
          "metadata": {},
          "execution_count": 18
        }
      ]
    },
    {
      "cell_type": "code",
      "metadata": {
        "colab": {
          "base_uri": "https://localhost:8080/",
          "height": 0
        },
        "id": "Aij9C7GWHd-Y",
        "outputId": "3e3e23b6-0776-45a5-e672-ce92a2e4b952"
      },
      "source": [
        "vpl = npf.npv(wacc,fc)\n",
        "vpl"
      ],
      "execution_count": 19,
      "outputs": [
        {
          "output_type": "execute_result",
          "data": {
            "text/plain": [
              "361573.7623485724"
            ]
          },
          "metadata": {},
          "execution_count": 19
        }
      ]
    },
    {
      "cell_type": "code",
      "metadata": {
        "colab": {
          "base_uri": "https://localhost:8080/"
        },
        "id": "17jUGbSLMVDH",
        "outputId": "7b6d9225-d150-4cf9-ebc9-1bfe201e647a"
      },
      "source": [
        "v = 0\n",
        "irpj = (v,irpj[1],irpj[2],irpj[3],irpj[4])\n",
        "irpj"
      ],
      "execution_count": 20,
      "outputs": [
        {
          "output_type": "execute_result",
          "data": {
            "text/plain": [
              "(0, 74800.0, 95200.0, 115600.00000000001, 136000.0)"
            ]
          },
          "metadata": {},
          "execution_count": 20
        }
      ]
    }
  ]
}